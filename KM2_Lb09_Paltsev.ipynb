{
 "cells": [
  {
   "cell_type": "markdown",
   "id": "a30884b6-7485-4724-a98c-39f9f534ca36",
   "metadata": {},
   "source": [
    "# Лабораторная работа 9\n",
    "# Создание текстового файла большого объема с помощью генераторной функции"
   ]
  },
  {
   "cell_type": "markdown",
   "id": "ca3bd3ea-1adb-411d-ae78-ed1d7561e210",
   "metadata": {},
   "source": [
    "#### Присяжнюк Александра"
   ]
  },
  {
   "cell_type": "code",
   "execution_count": 4,
   "id": "020f7256-5f11-4383-8d20-e5fb0c5da5a7",
   "metadata": {},
   "outputs": [],
   "source": [
    "from random import randint, choice"
   ]
  },
  {
   "cell_type": "code",
   "execution_count": 6,
   "id": "0149da61-c780-4b75-84eb-941c2fd3ee24",
   "metadata": {},
   "outputs": [
    {
     "data": {
      "text/plain": [
       "\u001b[1;31mSignature:\u001b[0m \u001b[0mrandint\u001b[0m\u001b[1;33m(\u001b[0m\u001b[0ma\u001b[0m\u001b[1;33m,\u001b[0m \u001b[0mb\u001b[0m\u001b[1;33m)\u001b[0m\u001b[1;33m\u001b[0m\u001b[1;33m\u001b[0m\u001b[0m\n",
       "\u001b[1;31mDocstring:\u001b[0m\n",
       "Return random integer in range [a, b], including both end points.\n",
       "        \n",
       "\u001b[1;31mFile:\u001b[0m      c:\\users\\user\\anaconda3\\lib\\random.py\n",
       "\u001b[1;31mType:\u001b[0m      method"
      ]
     },
     "metadata": {},
     "output_type": "display_data"
    }
   ],
   "source": [
    "?randint"
   ]
  },
  {
   "cell_type": "code",
   "execution_count": 8,
   "id": "3cc7713f-8361-43cb-9c8d-b25350492a7f",
   "metadata": {},
   "outputs": [
    {
     "data": {
      "text/plain": [
       "'Код символа: 99, символ: c'"
      ]
     },
     "execution_count": 8,
     "metadata": {},
     "output_type": "execute_result"
    }
   ],
   "source": [
    "latin_code = (ord('a'), ord('z')) # соответствует type_symbols = 'latin'\n",
    "f'Код символа: {(c:=randint(*latin_code))}, символ: {chr(c)}'"
   ]
  },
  {
   "cell_type": "markdown",
   "id": "ad3324c4-21d3-4c7c-8f12-beedd4b1250a",
   "metadata": {},
   "source": [
    "# Функция process_time из модуля time"
   ]
  },
  {
   "cell_type": "code",
   "execution_count": 11,
   "id": "d4d690b8-ce0d-4826-b6f8-82c7d03671d1",
   "metadata": {},
   "outputs": [],
   "source": [
    "from time import process_time"
   ]
  },
  {
   "cell_type": "code",
   "execution_count": 13,
   "id": "50001945-8fe7-4f37-98c3-9a2bd19ec32b",
   "metadata": {},
   "outputs": [
    {
     "data": {
      "text/plain": [
       "\u001b[1;31mDocstring:\u001b[0m\n",
       "process_time() -> float\n",
       "\n",
       "Process time for profiling: sum of the kernel and user-space CPU time.\n",
       "\u001b[1;31mType:\u001b[0m      builtin_function_or_method"
      ]
     },
     "metadata": {},
     "output_type": "display_data"
    }
   ],
   "source": [
    "?process_time\n"
   ]
  },
  {
   "cell_type": "code",
   "execution_count": 15,
   "id": "66f8f7dc-279c-412d-b74b-667a554437c6",
   "metadata": {},
   "outputs": [
    {
     "name": "stdout",
     "output_type": "stream",
     "text": [
      "0.15625 секунд\n"
     ]
    }
   ],
   "source": [
    "start = process_time()\n",
    "[x**2 for x in range(1_000_000)]\n",
    "end = process_time()\n",
    "print(f'{end - start} секунд')"
   ]
  },
  {
   "cell_type": "markdown",
   "id": "1442a198-38f1-460e-8a65-830254ffec91",
   "metadata": {},
   "source": [
    "# Задание 9.1. Запись данных в текстовый файл"
   ]
  },
  {
   "cell_type": "code",
   "execution_count": 18,
   "id": "395ebafc-1635-4602-b8e8-3ece53eabe98",
   "metadata": {},
   "outputs": [],
   "source": [
    "file_name = 'test.txt'\n",
    "f = open(file_name, 'w')"
   ]
  },
  {
   "cell_type": "code",
   "execution_count": 20,
   "id": "d2ec7c9d-8302-4bbd-a30c-47127105b52d",
   "metadata": {},
   "outputs": [
    {
     "data": {
      "text/plain": [
       "['t\\n', 'e\\n', 's\\n', 't\\n']"
      ]
     },
     "execution_count": 20,
     "metadata": {},
     "output_type": "execute_result"
    }
   ],
   "source": [
    "lines_list = [f'{x}\\n' for x in 'test']\n",
    "lines_list"
   ]
  },
  {
   "cell_type": "code",
   "execution_count": 22,
   "id": "5b8afcd0-b77c-44ed-965c-48621dc44a12",
   "metadata": {},
   "outputs": [],
   "source": [
    "f.writelines(lines_list)"
   ]
  },
  {
   "cell_type": "code",
   "execution_count": 24,
   "id": "ddb552f4-02ac-42ed-9111-828c048b1200",
   "metadata": {},
   "outputs": [],
   "source": [
    "f.close()"
   ]
  },
  {
   "cell_type": "code",
   "execution_count": 26,
   "id": "98097fc5-a239-4557-a138-01cb6a37b5ad",
   "metadata": {},
   "outputs": [
    {
     "name": "stdout",
     "output_type": "stream",
     "text": [
      "t\n",
      "e\n",
      "s\n",
      "t\n"
     ]
    }
   ],
   "source": [
    "with open(file_name,'r') as f:\n",
    "    for line in f:\n",
    "        print(line, end='')"
   ]
  },
  {
   "cell_type": "code",
   "execution_count": 28,
   "id": "fdb2349d-41d0-4df5-bf94-d25c9142964f",
   "metadata": {},
   "outputs": [],
   "source": [
    "lines_gen_expr = (f'{x}\\n' for x in range(10**6))\n",
    "def lines_gen_fun(number_lines=10**6):\n",
    "    yield from (f'{x}\\n' for x in range(number_lines))\n",
    "with open(file_name,'w') as f:\n",
    "    f.writelines(lines_gen_expr)\n",
    "    f.writelines(lines_gen_fun())\n",
    " "
   ]
  },
  {
   "cell_type": "code",
   "execution_count": 29,
   "id": "3e937f37-62bb-44a1-b24b-1682da5dc73d",
   "metadata": {},
   "outputs": [
    {
     "name": "stdout",
     "output_type": "stream",
     "text": [
      "6.569757461547852 Mb\n"
     ]
    }
   ],
   "source": [
    "def lines_gen_fun(number_lines = 10**6):\n",
    "    file_size = 0\n",
    "    for x in range(number_lines):\n",
    "        line = f'{x}\\n'\n",
    "        yield line\n",
    "        file_size += len(line)\n",
    "    print(f'{file_size/1024**2} Mb')\n",
    "\n",
    "with open(file_name,'w') as f:\n",
    "    f.writelines(lines_gen_fun())\n"
   ]
  },
  {
   "cell_type": "code",
   "execution_count": 30,
   "id": "7397b8ec-bc80-407a-a76a-1a2ed73cbc3f",
   "metadata": {},
   "outputs": [
    {
     "name": "stdout",
     "output_type": "stream",
     "text": [
      "6.569757461547852 Mb\n",
      "1.9375 секунд\n"
     ]
    }
   ],
   "source": [
    "with open(file_name,'w') as f:\n",
    "    start = process_time()\n",
    "    f.writelines(lines_gen_fun()) \n",
    "    end = process_time()\n",
    "    print(end - start, 'секунд')"
   ]
  },
  {
   "cell_type": "code",
   "execution_count": 31,
   "id": "06d38860-768c-4fa2-8331-9c0e9233d9c5",
   "metadata": {},
   "outputs": [],
   "source": [
    "def lines_gen_fun(number_lines=10**6, status=False):\n",
    "    file_size = 0\n",
    "    for x in range(number_lines):\n",
    "        line = f'{x}\\n'\n",
    "        yield line\n",
    "        file_size += len(line)\n",
    "\n",
    "        # отображение статуса записи в файл в процентах\n",
    "        if status:\n",
    "            status_number = x / number_lines * 100\n",
    "            # \\r — возврат курсора в начало строки\n",
    "            print(f'\\r{int(status_number)}%', end='', flush=True)\n",
    "\n",
    "    print(f'\\n {file_size/1024**2} Mb')\n"
   ]
  },
  {
   "cell_type": "code",
   "execution_count": 32,
   "id": "0294cfea-b03a-4731-9be4-a52c3d93a24d",
   "metadata": {},
   "outputs": [
    {
     "name": "stdout",
     "output_type": "stream",
     "text": [
      "99%\n",
      " 0.013246536254882812 Mb\n",
      "3.609375 секунд\n"
     ]
    }
   ],
   "source": [
    "with open(file_name,'w') as f:\n",
    "    start = process_time()\n",
    "    f.writelines(lines_gen_fun(3*10**3, status=True)) \n",
    "    end = process_time()\n",
    "    print(end - start, 'секунд')"
   ]
  },
  {
   "cell_type": "markdown",
   "id": "bf12bab2-4289-4768-8895-22c08b4b2e24",
   "metadata": {},
   "source": [
    "# Задание 9.2. Генерация строк"
   ]
  },
  {
   "cell_type": "code",
   "execution_count": 34,
   "id": "cd0454de-71a0-4931-ad61-3f1ada13af13",
   "metadata": {},
   "outputs": [],
   "source": [
    "latin_code = (ord('a'), ord('z')) # соответствует type_symbols = 'latin'\n",
    "number_words = (10, 20)\n",
    "number_symbols = (5, 10)"
   ]
  },
  {
   "cell_type": "code",
   "execution_count": 35,
   "id": "35cdb96c-69fa-4a57-b1a8-363101d46f81",
   "metadata": {},
   "outputs": [
    {
     "data": {
      "text/plain": [
       "'vajenpupu'"
      ]
     },
     "execution_count": 35,
     "metadata": {},
     "output_type": "execute_result"
    }
   ],
   "source": [
    "len_word = randint(*number_symbols)\n",
    "word = ''.join([chr(randint(*latin_code)) for i in range(len_word)])\n",
    "word"
   ]
  },
  {
   "cell_type": "code",
   "execution_count": 37,
   "id": "3ff617b7-af06-4b32-a02e-ecf1feed6677",
   "metadata": {},
   "outputs": [],
   "source": [
    "number_code=(ord('0'), ord('9'))\n",
    "kir_code=(ord('А'), ord('Я'))\n",
    "\n",
    "skroka=' '.join(''.join([chr(randint(*choice([number_code,kir_code,latin_code]))) for i in range(randint(*number_symbols))]) for j in range(*number_words))"
   ]
  },
  {
   "cell_type": "code",
   "execution_count": 38,
   "id": "f483ddf6-d88d-4473-94f9-72c40850418d",
   "metadata": {},
   "outputs": [
    {
     "data": {
      "text/plain": [
       "'y87883ЦaЯ 7Э1oЫs 1rС05m qfwЕq17u УКДС45 КЛ6yr 16frТЪg 646699 c36О2i БО79ДВ521М'"
      ]
     },
     "execution_count": 38,
     "metadata": {},
     "output_type": "execute_result"
    }
   ],
   "source": [
    "skroka"
   ]
  },
  {
   "cell_type": "code",
   "execution_count": 40,
   "id": "29c66f96-0611-4bb9-8e72-ecacd7349df8",
   "metadata": {},
   "outputs": [],
   "source": [
    "def lines_gen_fun_v2(file_size_mb, type_symbols, number_words, number_symbols):\n",
    "    size = 0\n",
    "    limit_bytes = file_size_mb * 1024 ** 2   \n",
    "    while True:\n",
    "        line = ' '.join(''.join(chr(randint(*type_symbols)) \n",
    "                for _ in range(randint(*number_symbols)))\n",
    "            for _ in range(randint(*number_words)))\n",
    "        size += len(line) + 1 \n",
    "        if size > limit_bytes:\n",
    "            return\n",
    "        yield line + '\\n'"
   ]
  },
  {
   "cell_type": "code",
   "execution_count": 49,
   "id": "2cf1433a-4a26-48b5-8dfd-b11706c4caee",
   "metadata": {},
   "outputs": [
    {
     "name": "stdout",
     "output_type": "stream",
     "text": [
      "2.109375 секунд\n"
     ]
    }
   ],
   "source": [
    "with open(file_name,'w') as f:\n",
    "    start = process_time()\n",
    "    f.writelines(lines_gen_fun_v2(1.54,latin_code, number_words, number_symbols )) \n",
    "    end = process_time()\n",
    "    print(end - start, 'секунд')"
   ]
  },
  {
   "cell_type": "markdown",
   "id": "6e229128-af34-44ec-933b-8f8b2bbae523",
   "metadata": {},
   "source": [
    "# Задание 9.3. Запись сгенерированных строк в текстовый файл"
   ]
  },
  {
   "cell_type": "code",
   "execution_count": 52,
   "id": "bf4f5f5b-3b8e-4c34-a6d8-d81e02020789",
   "metadata": {},
   "outputs": [],
   "source": [
    "def file_gen(file_name: str,\n",
    " file_size: int,\n",
    " type_symbols: str='latin',\n",
    " number_words: (int,int)=(10,20),\n",
    " number_symbols: (int,int)=(5,10)):\n",
    "    size = 0\n",
    "    limit_bytes = file_size * 1024 ** 2   \n",
    "    lines=''\n",
    "    while True:\n",
    "        line = ' '.join(''.join(chr(randint(*type_symbols)) \n",
    "                for _ in range(randint(*number_symbols)))\n",
    "            for _ in range(randint(*number_words)))\n",
    "        size += len(line) + 1 \n",
    "        if size > limit_bytes:\n",
    "            return\n",
    "        lines= line + '\\n'\n",
    "        # отображение статуса записи в файл в процентах\n",
    "        if status:\n",
    "            status_number = size /limit_bytes * 100\n",
    "            # \\r — возврат курсора в начало строки\n",
    "            print(f'\\r{int(status_number)}%', end='', flush=True)\n",
    "    print(f'\\n {size/1024**2} Mb')\n"
   ]
  },
  {
   "cell_type": "code",
   "execution_count": 64,
   "id": "363499ed-664a-48a4-9776-8b1187d6e382",
   "metadata": {},
   "outputs": [],
   "source": [
    "def file_gen(file_name: str,\n",
    " file_size: int,\n",
    " type_symbols: str='latin',\n",
    " number_words: (int,int)=(10,20),\n",
    " number_symbols: (int,int)=(5,10)):\n",
    "    size = 0\n",
    "    limit_bytes = file_size * 1024 ** 2   \n",
    "    start = process_time()\n",
    "    symbol_sets = {\n",
    "        'latin': [(ord('A'), ord('Z'))],\n",
    "        'digits': [(ord('0'), ord('9'))],\n",
    "        'cyrillic': [(ord('А'), ord('Я'))]\n",
    "    }\n",
    "    last_percent = -1\n",
    "    with open(file_name,'w') as f:\n",
    "        for line in lines_gen_fun_v2(file_size,*symbol_sets[type_symbols], number_words, number_symbols):\n",
    "            size+=len(line)\n",
    "            f.write(line)\n",
    "            status_number = int(size /limit_bytes * 100)\n",
    "            if status_number>last_percent:\n",
    "                print(f'\\r{status_number}%', end='', flush=True)\n",
    "                last_percent=status_number\n",
    "    end = process_time()\n",
    "    print(end - start, 'секунд')\n",
    "    print(f'\\n {size/1024**2} Mb')\n"
   ]
  },
  {
   "cell_type": "code",
   "execution_count": 66,
   "id": "080a21dc-e1c6-4e0b-a66d-dc33633953d9",
   "metadata": {},
   "outputs": [
    {
     "name": "stdout",
     "output_type": "stream",
     "text": [
      "2.8125 секунд\n",
      "\n",
      " 1.9999914169311523 Mb\n"
     ]
    }
   ],
   "source": [
    "file_gen(file_name, 2, 'latin')"
   ]
  },
  {
   "cell_type": "code",
   "execution_count": null,
   "id": "8e5495bf-dd5b-4248-b93e-b1b34dd5725c",
   "metadata": {},
   "outputs": [],
   "source": []
  }
 ],
 "metadata": {
  "kernelspec": {
   "display_name": "Python [conda env:base] *",
   "language": "python",
   "name": "conda-base-py"
  },
  "language_info": {
   "codemirror_mode": {
    "name": "ipython",
    "version": 3
   },
   "file_extension": ".py",
   "mimetype": "text/x-python",
   "name": "python",
   "nbconvert_exporter": "python",
   "pygments_lexer": "ipython3",
   "version": "3.12.7"
  }
 },
 "nbformat": 4,
 "nbformat_minor": 5
}
