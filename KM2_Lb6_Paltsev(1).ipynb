{
 "cells": [
  {
   "cell_type": "code",
   "execution_count": 76,
   "id": "640d1665-bb5d-4b70-88c1-3c814602e82e",
   "metadata": {},
   "outputs": [
    {
     "data": {
      "text/plain": [
       "3000"
      ]
     },
     "execution_count": 76,
     "metadata": {},
     "output_type": "execute_result"
    }
   ],
   "source": [
    "import sys\n",
    "sys.getrecursionlimit()"
   ]
  },
  {
   "cell_type": "code",
   "execution_count": 77,
   "id": "ffd471c7-86e7-4aec-913f-9d3e906fc2c4",
   "metadata": {},
   "outputs": [
    {
     "data": {
      "text/plain": [
       "(0, 3, 55)"
      ]
     },
     "execution_count": 77,
     "metadata": {},
     "output_type": "execute_result"
    }
   ],
   "source": [
    "def sum(n):\n",
    "    \"\"\"суммирует числа от 0 до n>=0\"\"\"\n",
    "    match n:\n",
    "        case 0: return n # база рекурсии\n",
    "        case _: return n + sum(n-1)        \n",
    "sum(0), sum(2), sum(10)"
   ]
  },
  {
   "cell_type": "code",
   "execution_count": 78,
   "id": "3b7a7949-8d99-4fa9-9ec3-4f9885ec3ea2",
   "metadata": {},
   "outputs": [
    {
     "data": {
      "text/plain": [
       "(0, 3, 55)"
      ]
     },
     "execution_count": 78,
     "metadata": {},
     "output_type": "execute_result"
    }
   ],
   "source": [
    " sum = lambda n: n + sum(n-1) if n else n\n",
    " sum(0), sum(2), sum(10)"
   ]
  },
  {
   "cell_type": "code",
   "execution_count": 79,
   "id": "69f879f6-ea80-4a0a-9031-816e4cc8aa21",
   "metadata": {},
   "outputs": [],
   "source": [
    "def flatten_list_v1(nested_obj):\n",
    "    result = []                                 \n",
    "    if isinstance(nested_obj,list):            \n",
    "        for item in nested_obj:                 \n",
    "            result += flatten_list_v1(item) # рекурсия\n",
    "    else:                                       \n",
    "        result += [nested_obj]                  \n",
    "    return result"
   ]
  },
  {
   "cell_type": "code",
   "execution_count": 80,
   "id": "e83609a5-a83d-402f-910e-2718fbd33fdc",
   "metadata": {},
   "outputs": [
    {
     "data": {
      "text/plain": [
       "[1, 2, 3, 4, 5, 6, 7]"
      ]
     },
     "execution_count": 80,
     "metadata": {},
     "output_type": "execute_result"
    }
   ],
   "source": [
    "it_list = [[1],[2,[3]],[[[[[4]]]]],5,6,7]\n",
    "flatten_list_v1(it_list)"
   ]
  },
  {
   "cell_type": "code",
   "execution_count": 81,
   "id": "986bfb93-c382-4c6c-8dac-1f64a3b0fd4f",
   "metadata": {},
   "outputs": [],
   "source": [
    "def flatten_list_v2(nested_obj):                              \n",
    "    if isinstance(nested_obj,list):            \n",
    "        for item in nested_obj:                 \n",
    "            yield from flatten_list_v2(item)\n",
    "    else:                                                         \n",
    "        yield nested_obj\n",
    "\n",
    "def flatten_list_v2_no_from(nested_obj):                              \n",
    "    if isinstance(nested_obj,list):            \n",
    "        for item in nested_obj:                 \n",
    "            for items in flatten_list_v2_no_from(item):\n",
    "                yield items\n",
    "    else:                                                         \n",
    "        yield nested_obj\n"
   ]
  },
  {
   "cell_type": "code",
   "execution_count": 82,
   "id": "36374a8b-6e3e-4e9a-9448-85298a7ae4ce",
   "metadata": {},
   "outputs": [],
   "source": [
    "iterator = iter(flatten_list_v2(it_list))"
   ]
  },
  {
   "cell_type": "code",
   "execution_count": 83,
   "id": "5b908f0b-8c1e-487c-b746-9a1c22aab7e6",
   "metadata": {},
   "outputs": [
    {
     "name": "stdout",
     "output_type": "stream",
     "text": [
      "[1, 2, 3, 4, 5, 6, 7]\n"
     ]
    }
   ],
   "source": [
    "print([next(iterator) for _ in flatten_list_v2(it_list)])"
   ]
  },
  {
   "cell_type": "code",
   "execution_count": 91,
   "id": "07c151ab-d833-4c64-ad5e-5230b4fefb79",
   "metadata": {},
   "outputs": [],
   "source": [
    "\n",
    "it_list= [[1], [2, [3]], [[[[[4]]]]], 5, 6, 7]\n",
    "it_tuple = (((7),(8)),(9),10)\n",
    "it_str = \"abcdefgh\"\n",
    "it_dict = {\"key1\": 11, \"key2\": {\"key3\": 12}}\n",
    "it_gen = ([i,i**2,i**3] for i in range(5))\n",
    "it = [it_list, it_tuple, it_str, it_dict, it_gen]"
   ]
  },
  {
   "cell_type": "code",
   "execution_count": 92,
   "id": "1b306edc-9e66-43b5-90c9-187734d1cfe3",
   "metadata": {},
   "outputs": [],
   "source": [
    "def flatten_it_v1(nested_obj):\n",
    "    result = []                                 \n",
    "    if hasattr(nested_obj, '__iter__'):         \n",
    "        if isinstance(nested_obj,str):\n",
    "            result += [nested_obj]\n",
    "        elif isinstance(nested_obj,dict):\n",
    "            for key in nested_obj:\n",
    "                result += flatten_it_v1(key)\n",
    "                result += flatten_it_v1(nested_obj[key])\n",
    "        else:\n",
    "            for i in nested_obj:\n",
    "                result += flatten_it_v1(i)\n",
    "    else:                                      \n",
    "        result += [nested_obj]                  \n",
    "    return result"
   ]
  },
  {
   "cell_type": "code",
   "execution_count": 93,
   "id": "7dcfc2a2-0347-4e0b-991c-a6495896f902",
   "metadata": {},
   "outputs": [
    {
     "name": "stdout",
     "output_type": "stream",
     "text": [
      "[1, 2, 3, 4, 5, 6, 7, 7, 8, 9, 10, 'abcdefgh', 'key1', 11, 'key2', 'key3', 12, 0, 0, 0, 1, 1, 1, 2, 4, 8, 3, 9, 27, 4, 16, 64]\n"
     ]
    }
   ],
   "source": [
    "print(flatten_it_v1(it))"
   ]
  },
  {
   "cell_type": "code",
   "execution_count": 94,
   "id": "f66331a1-cd25-4e8d-8547-d7185916d156",
   "metadata": {},
   "outputs": [],
   "source": [
    "def flatten_it_v2(nested_obj):\n",
    "    if hasattr(nested_obj, '__iter__'):\n",
    "        if isinstance(nested_obj,str):\n",
    "            yield nested_obj\n",
    "        elif isinstance(nested_obj,dict):\n",
    "            for key in nested_obj:\n",
    "                yield from flatten_it_v2(key)\n",
    "                for i in flatten_it_v2(nested_obj[key]):\n",
    "                    yield i\n",
    "        elif hasattr(nested_obj, '__next__'):\n",
    "            yield from flatten_it_v2(list(nested_obj))\n",
    "\n",
    "        else:\n",
    "            for item in nested_obj:\n",
    "                yield from flatten_it_v2(item)\n",
    "    else:\n",
    "        yield nested_obj"
   ]
  },
  {
   "cell_type": "code",
   "execution_count": 96,
   "id": "574addd4-a527-426d-aa46-53c01a1b3f0d",
   "metadata": {},
   "outputs": [
    {
     "name": "stdout",
     "output_type": "stream",
     "text": [
      "[1, 2, 3, 4, 5, 6, 7, 7, 8, 9, 10, 'abcdefgh', 'key1', 11, 'key2', 'key3', 12, 0, 0, 0, 1, 1, 1, 2, 4, 8, 3, 9, 27, 4, 16, 64]\n"
     ]
    }
   ],
   "source": [
    "\n",
    "it_list= [[1], [2, [3]], [[[[[4]]]]], 5, 6, 7]\n",
    "it_tuple = (((7),(8)),(9),10)\n",
    "it_str = \"abcdefgh\"\n",
    "it_dict = {\"key1\": 11, \"key2\": {\"key3\": 12}}\n",
    "it_gen = ([i,i**2,i**3] for i in range(5))\n",
    "it = [it_list, it_tuple, it_str, it_dict, it_gen]\n",
    "print(list(flatten_it_v2(it)))"
   ]
  },
  {
   "cell_type": "code",
   "execution_count": 89,
   "id": "340d8344-7345-4b31-8b69-cb7bece9611a",
   "metadata": {},
   "outputs": [
    {
     "data": {
      "text/plain": [
       "3"
      ]
     },
     "execution_count": 89,
     "metadata": {},
     "output_type": "execute_result"
    }
   ],
   "source": [
    "next(iterator2)\n",
    "next(iterator2)\n",
    "next(iterator2)"
   ]
  },
  {
   "cell_type": "code",
   "execution_count": 97,
   "id": "27d79d8d-46b2-4522-bac6-451308fbb4bf",
   "metadata": {},
   "outputs": [],
   "source": [
    "def flatten_it(nested_obj, gen=False):\n",
    "    def flatten_it_v2(nested_obj):\n",
    "        if hasattr(nested_obj, '__iter__'):\n",
    "            if isinstance(nested_obj,str):\n",
    "                yield nested_obj\n",
    "            elif isinstance(nested_obj,dict):\n",
    "                for key in nested_obj:\n",
    "                    yield from flatten_it_v2(key)\n",
    "                    for i in flatten_it_v2(nested_obj[key]):\n",
    "                        yield i\n",
    "            elif hasattr(nested_obj, '__next__'):\n",
    "                yield from flatten_it_v2(list(nested_obj))\n",
    "    \n",
    "            else:\n",
    "                for item in nested_obj:\n",
    "                    yield from flatten_it_v2(item)\n",
    "        else:\n",
    "            yield nested_obj\n",
    "    if gen == True:\n",
    "        return flatten_it_v2(nested_obj)\n",
    "    elif gen == False:\n",
    "        return list(flatten_it_v2(nested_obj))"
   ]
  },
  {
   "cell_type": "code",
   "execution_count": 105,
   "id": "766b0063-d5e6-40ef-913e-f0b518a6282f",
   "metadata": {},
   "outputs": [],
   "source": [
    "it_list= [[1], [2, [3]], [[[[[4]]]]], 5, 6, 7]\n",
    "it_tuple = (((7),(8)),(9),10)\n",
    "it_str = \"abcdefgh\"\n",
    "it_dict = {\"key1\": 11, \"key2\": {\"key3\": 12}}\n",
    "it_gen = ([i,i**2,i**3] for i in range(5))\n",
    "it = [it_list, it_tuple, it_str, it_dict, it_gen]\n",
    "iterator_a = iter(flatten_it(it, gen=True))\n"
   ]
  },
  {
   "cell_type": "code",
   "execution_count": 116,
   "id": "1a436280-3b83-4b37-b906-264a7234fd8a",
   "metadata": {},
   "outputs": [
    {
     "ename": "StopIteration",
     "evalue": "",
     "output_type": "error",
     "traceback": [
      "\u001b[1;31m---------------------------------------------------------------------------\u001b[0m",
      "\u001b[1;31mStopIteration\u001b[0m                             Traceback (most recent call last)",
      "Cell \u001b[1;32mIn[116], line 3\u001b[0m\n\u001b[0;32m      1\u001b[0m \u001b[38;5;28mnext\u001b[39m(iterator_a)\n\u001b[0;32m      2\u001b[0m \u001b[38;5;28mnext\u001b[39m(iterator_a)\n\u001b[1;32m----> 3\u001b[0m \u001b[38;5;28;43mnext\u001b[39;49m\u001b[43m(\u001b[49m\u001b[43miterator_a\u001b[49m\u001b[43m)\u001b[49m\n",
      "\u001b[1;31mStopIteration\u001b[0m: "
     ]
    }
   ],
   "source": [
    "next(iterator_a)\n",
    "next(iterator_a)\n",
    "next(iterator_a)"
   ]
  },
  {
   "cell_type": "code",
   "execution_count": 117,
   "id": "039d7f92-4d8e-4f11-9aee-aad2ee1dda56",
   "metadata": {},
   "outputs": [],
   "source": [
    "\n",
    "it_list_cyclic = it_list[:] \n",
    "it_list_cyclic.append(it_list_cyclic) "
   ]
  },
  {
   "cell_type": "code",
   "execution_count": 118,
   "id": "9551d265-c835-4868-96fa-b011a0c4a79c",
   "metadata": {},
   "outputs": [
    {
     "data": {
      "text/plain": [
       "[[1], [2, [3]], [[[[[4]]]]], 5, 6, 7, [...]]"
      ]
     },
     "execution_count": 118,
     "metadata": {},
     "output_type": "execute_result"
    }
   ],
   "source": [
    "it_list_cyclic"
   ]
  },
  {
   "cell_type": "code",
   "execution_count": 123,
   "id": "139ad580-5eca-422a-a624-92d54d8182c7",
   "metadata": {},
   "outputs": [],
   "source": [
    "def flatten_list_v1(nested_obj):\n",
    "    result = []                                 \n",
    "    if isinstance(nested_obj,list):             \n",
    "        for item in nested_obj:\n",
    "            if item is nested_obj:              \n",
    "                raise ValueError(\"Cyclic list is found\")  # генерация исключения\n",
    "            else:\n",
    "                result += flatten_list_v1(item)\n",
    "    else:                                      \n",
    "        result += [nested_obj]\n",
    "    return result"
   ]
  },
  {
   "cell_type": "code",
   "execution_count": 124,
   "id": "0f534fbd-c09b-4bf3-ac59-1640ca70a625",
   "metadata": {},
   "outputs": [
    {
     "data": {
      "text/plain": [
       "[1, 2, 3, 4, 5, 6, 7]"
      ]
     },
     "execution_count": 124,
     "metadata": {},
     "output_type": "execute_result"
    }
   ],
   "source": [
    "flatten_list_v1(it_list)"
   ]
  },
  {
   "cell_type": "code",
   "execution_count": 126,
   "id": "43e642c7-615e-4e5a-8aed-2f285507003f",
   "metadata": {},
   "outputs": [
    {
     "name": "stdout",
     "output_type": "stream",
     "text": [
      "Cyclic list is found\n"
     ]
    }
   ],
   "source": [
    "try:\n",
    "    print(flatten_list_v1(it_list_cyclic))\n",
    "except ValueError as e:\n",
    " print(e)"
   ]
  },
  {
   "cell_type": "code",
   "execution_count": 132,
   "id": "3da4f095-46e2-4a23-a940-11a44e1f2836",
   "metadata": {},
   "outputs": [],
   "source": [
    "def flatten_it(nested_obj, gen=False):\n",
    "    def flatten_it_v2(nested_obj):\n",
    "        if hasattr(nested_obj, '__iter__'):\n",
    "            if isinstance(nested_obj,str):\n",
    "                yield nested_obj\n",
    "            elif isinstance(nested_obj,dict):\n",
    "                for key in nested_obj:\n",
    "                    yield from flatten_it_v2(key)\n",
    "                    for i in flatten_it_v2(nested_obj[key]):\n",
    "                        yield i\n",
    "            elif hasattr(nested_obj, '__next__'):\n",
    "                yield from flatten_it_v2(list(nested_obj))\n",
    "    \n",
    "            else:\n",
    "                for item in nested_obj:\n",
    "                    if item is nested_obj:              \n",
    "                        raise ValueError(\"Cyclic list is found\")\n",
    "                    else:\n",
    "                        yield from flatten_it_v2(item)\n",
    "        else:\n",
    "            yield nested_obj\n",
    "    if gen == True:\n",
    "        return flatten_it_v2(nested_obj)\n",
    "    elif gen == False:\n",
    "        return list(flatten_it_v2(nested_obj))"
   ]
  },
  {
   "cell_type": "code",
   "execution_count": 134,
   "id": "65f963f5-6d4c-4575-99d6-3696870d3cb1",
   "metadata": {},
   "outputs": [
    {
     "name": "stdout",
     "output_type": "stream",
     "text": [
      "Cyclic list is found\n"
     ]
    }
   ],
   "source": [
    "try:\n",
    "    print(flatten_it(it_list_cyclic))\n",
    "except ValueError as e:\n",
    "    print(e)"
   ]
  },
  {
   "cell_type": "code",
   "execution_count": 135,
   "id": "ab5a6804-2e18-47d9-8316-3b9b0172391c",
   "metadata": {},
   "outputs": [
    {
     "name": "stdout",
     "output_type": "stream",
     "text": [
      "[1, 2, 3, 4, 5, 6, 7, 7, 8, 9, 10, 'abcdefgh', 'key1', 11, 'key2', 'key3', 12, 0, 0, 0, 1, 1, 1, 2, 4, 8, 3, 9, 27, 4, 16, 64]\n"
     ]
    }
   ],
   "source": [
    "it_list= [[1], [2, [3]], [[[[[4]]]]], 5, 6, 7]\n",
    "it_tuple = (((7),(8)),(9),10)\n",
    "it_str = \"abcdefgh\"\n",
    "it_dict = {\"key1\": 11, \"key2\": {\"key3\": 12}}\n",
    "it_gen = ([i,i**2,i**3] for i in range(5))\n",
    "it = [it_list, it_tuple, it_str, it_dict, it_gen]\n",
    "\n",
    "try:\n",
    "    print(flatten_it(it))\n",
    "except ValueError as e:\n",
    "    print(e)"
   ]
  },
  {
   "cell_type": "code",
   "execution_count": null,
   "id": "7f7e7d81-3784-4e43-8f3c-d57af5d8c896",
   "metadata": {},
   "outputs": [],
   "source": [
    "def flatten_it(nested_obj, gen=False):\n",
    "    def flatten_it_v2(nested_obj):\n",
    "        if hasattr(nested_obj, '__iter__'):\n",
    "            if isinstance(nested_obj,str):\n",
    "                yield nested_obj\n",
    "            elif isinstance(nested_obj,dict):\n",
    "                for key in nested_obj:\n",
    "                    yield from flatten_it_v2(key)\n",
    "                    for i in flatten_it_v2(nested_obj[key]):\n",
    "                        yield i\n",
    "            elif hasattr(nested_obj, '__next__'):\n",
    "                yield from flatten_it_v2(list(nested_obj))\n",
    "    \n",
    "            else:\n",
    "                for item in nested_obj:\n",
    "                    if item is nested_obj:              \n",
    "                        raise ValueError(\"Cyclic list is found\")\n",
    "                    else:\n",
    "                        yield from flatten_it_v2(item)\n",
    "        else:\n",
    "            yield nested_obj\n",
    "    if gen == True:\n",
    "        return flatten_it_v2(nested_obj)\n",
    "    elif gen == False:\n",
    "        return list(flatten_it_v2(nested_obj))"
   ]
  }
 ],
 "metadata": {
  "kernelspec": {
   "display_name": "Python 3 (ipykernel)",
   "language": "python",
   "name": "python3"
  },
  "language_info": {
   "codemirror_mode": {
    "name": "ipython",
    "version": 3
   },
   "file_extension": ".py",
   "mimetype": "text/x-python",
   "name": "python",
   "nbconvert_exporter": "python",
   "pygments_lexer": "ipython3",
   "version": "3.13.2"
  }
 },
 "nbformat": 4,
 "nbformat_minor": 5
}
