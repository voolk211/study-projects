{
  "nbformat": 4,
  "nbformat_minor": 0,
  "metadata": {
    "colab": {
      "provenance": []
    },
    "kernelspec": {
      "name": "python3",
      "display_name": "Python 3"
    },
    "language_info": {
      "name": "python"
    }
  },
  "cells": [
    {
      "cell_type": "markdown",
      "source": [
        "Пальцев Вячеслав"
      ],
      "metadata": {
        "id": "sQsek65SvErP"
      }
    },
    {
      "cell_type": "code",
      "source": [
        "import numpy as np\n"
      ],
      "metadata": {
        "id": "GXwPjZxVolFX"
      },
      "execution_count": 47,
      "outputs": []
    },
    {
      "cell_type": "markdown",
      "source": [
        "Задание 1"
      ],
      "metadata": {
        "id": "179qu6FEoZVg"
      }
    },
    {
      "cell_type": "code",
      "execution_count": 60,
      "metadata": {
        "colab": {
          "base_uri": "https://localhost:8080/"
        },
        "id": "ad3QXQ9Qeq7r",
        "outputId": "cca986f4-a4de-40c0-d310-91a5b49ebdfa"
      },
      "outputs": [
        {
          "output_type": "stream",
          "name": "stdout",
          "text": [
            "None\n",
            "780\n",
            "string0string1string2string3string4string5string6string7string8string9string10string11string12string13string14string15string16string17string18string19string20string21string22string23string24string25string26string27string28string29string30string31string32string33string34string35string36string37string38string39\n",
            "780\n"
          ]
        }
      ],
      "source": [
        "def func1(*args,**kwargs):\n",
        "  full_list = list(args) + list(kwargs.values())\n",
        "  if len(full_list)!=0:\n",
        "    answ = full_list[0]\n",
        "    for i in range(1,len(full_list)):\n",
        "      answ = answ + full_list[i]\n",
        "    return answ\n",
        "  else:\n",
        "    return None\n",
        "\n",
        "\n",
        "print(func1())\n",
        "print(func1(*{i for i in range(0,40)}))\n",
        "print(func1(**{f'{i}' : f'string{i}' for i in range(0,40)}))\n",
        "args_pos = [i for i in range(20)]\n",
        "args_key = {f'k{i}':i for i in range(20,40)}\n",
        "print(func1(*args_pos,**args_key))\n",
        "\n",
        "\n"
      ]
    },
    {
      "cell_type": "markdown",
      "source": [
        "Задание 2"
      ],
      "metadata": {
        "id": "swJjQyTOodzn"
      }
    },
    {
      "cell_type": "code",
      "source": [
        "def func2(a):\n",
        "  return max(abs(np.sin(np.cos(np.power((np.e),4*a)))),0.6)\n",
        "\n",
        "list1 = np.arange(0,1,0.01)\n",
        "list2 = []\n",
        "\n",
        "for i in list1:\n",
        "  list2.append(func2(i))\n",
        "print(list2)\n",
        "\n",
        "list3 = list(map(func2,list1))\n",
        "print(list3)\n",
        "\n",
        "list4 = [func2(i) for i in list1]\n",
        "print(list4)"
      ],
      "metadata": {
        "colab": {
          "base_uri": "https://localhost:8080/"
        },
        "id": "wEYhwThRog_4",
        "outputId": "d9fbc27f-eb08-4bc1-cc2f-b56ecc52989f"
      },
      "execution_count": 75,
      "outputs": [
        {
          "output_type": "stream",
          "name": "stdout",
          "text": [
            "[0.6, 0.6, 0.6, 0.6, 0.6, 0.6, 0.6, 0.6, 0.6, 0.6, 0.6, 0.6, 0.6, 0.6, 0.6, 0.6, 0.6, 0.6, 0.6, 0.6, 0.6, np.float64(0.6275412346649978), np.float64(0.6777601638234675), np.float64(0.7219864421971666), np.float64(0.7597051396314711), np.float64(0.7905667351815867), np.float64(0.8143487394068666), np.float64(0.8308732712199275), np.float64(0.8398772603278047), np.float64(0.8408392402430515), np.float64(0.8327779523105266), np.float64(0.8140544526721853), np.float64(0.7822318757598253), np.float64(0.734073739955096), np.float64(0.6657848174096668), 0.6, 0.6, 0.6, 0.6, 0.6, 0.6, 0.6, 0.6, np.float64(0.6930466860925577), np.float64(0.7778449085987007), np.float64(0.826495578442829), np.float64(0.8414228138574058), np.float64(0.8212997717051799), np.float64(0.7570927070071269), np.float64(0.632701711111519), 0.6, 0.6, 0.6, 0.6, np.float64(0.6662752620822135), np.float64(0.7962994150873273), np.float64(0.8412037533347364), np.float64(0.8068017232901489), np.float64(0.6676722411320889), 0.6, 0.6, 0.6, np.float64(0.7249081043635296), np.float64(0.8363134718122492), np.float64(0.8031282756595466), 0.6, 0.6, 0.6, np.float64(0.7604444314229704), np.float64(0.8391845276339087), np.float64(0.6748052404979524), 0.6, 0.6, np.float64(0.8150759995567164), np.float64(0.7840319507478755), 0.6, 0.6, np.float64(0.8265985283804302), np.float64(0.7123964514499792), 0.6, np.float64(0.7346946313147072), np.float64(0.7960126186238654), 0.6, np.float64(0.7293419494796315), np.float64(0.7645630537012067), 0.6, np.float64(0.8270847017617535), 0.6, np.float64(0.6561878391059485), np.float64(0.7325879850719407), 0.6, np.float64(0.7979399746805517), 0.6, np.float64(0.7904714007593812), 0.6, np.float64(0.6834942697404308), np.float64(0.7353813981426074), 0.6, np.float64(0.8365229685739303), 0.6]\n",
            "[0.6, 0.6, 0.6, 0.6, 0.6, 0.6, 0.6, 0.6, 0.6, 0.6, 0.6, 0.6, 0.6, 0.6, 0.6, 0.6, 0.6, 0.6, 0.6, 0.6, 0.6, np.float64(0.6275412346649978), np.float64(0.6777601638234675), np.float64(0.7219864421971666), np.float64(0.7597051396314711), np.float64(0.7905667351815867), np.float64(0.8143487394068666), np.float64(0.8308732712199275), np.float64(0.8398772603278047), np.float64(0.8408392402430515), np.float64(0.8327779523105266), np.float64(0.8140544526721853), np.float64(0.7822318757598253), np.float64(0.734073739955096), np.float64(0.6657848174096668), 0.6, 0.6, 0.6, 0.6, 0.6, 0.6, 0.6, 0.6, np.float64(0.6930466860925577), np.float64(0.7778449085987007), np.float64(0.826495578442829), np.float64(0.8414228138574058), np.float64(0.8212997717051799), np.float64(0.7570927070071269), np.float64(0.632701711111519), 0.6, 0.6, 0.6, 0.6, np.float64(0.6662752620822135), np.float64(0.7962994150873273), np.float64(0.8412037533347364), np.float64(0.8068017232901489), np.float64(0.6676722411320889), 0.6, 0.6, 0.6, np.float64(0.7249081043635296), np.float64(0.8363134718122492), np.float64(0.8031282756595466), 0.6, 0.6, 0.6, np.float64(0.7604444314229704), np.float64(0.8391845276339087), np.float64(0.6748052404979524), 0.6, 0.6, np.float64(0.8150759995567164), np.float64(0.7840319507478755), 0.6, 0.6, np.float64(0.8265985283804302), np.float64(0.7123964514499792), 0.6, np.float64(0.7346946313147072), np.float64(0.7960126186238654), 0.6, np.float64(0.7293419494796315), np.float64(0.7645630537012067), 0.6, np.float64(0.8270847017617535), 0.6, np.float64(0.6561878391059485), np.float64(0.7325879850719407), 0.6, np.float64(0.7979399746805517), 0.6, np.float64(0.7904714007593812), 0.6, np.float64(0.6834942697404308), np.float64(0.7353813981426074), 0.6, np.float64(0.8365229685739303), 0.6]\n",
            "[0.6, 0.6, 0.6, 0.6, 0.6, 0.6, 0.6, 0.6, 0.6, 0.6, 0.6, 0.6, 0.6, 0.6, 0.6, 0.6, 0.6, 0.6, 0.6, 0.6, 0.6, np.float64(0.6275412346649978), np.float64(0.6777601638234675), np.float64(0.7219864421971666), np.float64(0.7597051396314711), np.float64(0.7905667351815867), np.float64(0.8143487394068666), np.float64(0.8308732712199275), np.float64(0.8398772603278047), np.float64(0.8408392402430515), np.float64(0.8327779523105266), np.float64(0.8140544526721853), np.float64(0.7822318757598253), np.float64(0.734073739955096), np.float64(0.6657848174096668), 0.6, 0.6, 0.6, 0.6, 0.6, 0.6, 0.6, 0.6, np.float64(0.6930466860925577), np.float64(0.7778449085987007), np.float64(0.826495578442829), np.float64(0.8414228138574058), np.float64(0.8212997717051799), np.float64(0.7570927070071269), np.float64(0.632701711111519), 0.6, 0.6, 0.6, 0.6, np.float64(0.6662752620822135), np.float64(0.7962994150873273), np.float64(0.8412037533347364), np.float64(0.8068017232901489), np.float64(0.6676722411320889), 0.6, 0.6, 0.6, np.float64(0.7249081043635296), np.float64(0.8363134718122492), np.float64(0.8031282756595466), 0.6, 0.6, 0.6, np.float64(0.7604444314229704), np.float64(0.8391845276339087), np.float64(0.6748052404979524), 0.6, 0.6, np.float64(0.8150759995567164), np.float64(0.7840319507478755), 0.6, 0.6, np.float64(0.8265985283804302), np.float64(0.7123964514499792), 0.6, np.float64(0.7346946313147072), np.float64(0.7960126186238654), 0.6, np.float64(0.7293419494796315), np.float64(0.7645630537012067), 0.6, np.float64(0.8270847017617535), 0.6, np.float64(0.6561878391059485), np.float64(0.7325879850719407), 0.6, np.float64(0.7979399746805517), 0.6, np.float64(0.7904714007593812), 0.6, np.float64(0.6834942697404308), np.float64(0.7353813981426074), 0.6, np.float64(0.8365229685739303), 0.6]\n"
          ]
        }
      ]
    }
  ]
}