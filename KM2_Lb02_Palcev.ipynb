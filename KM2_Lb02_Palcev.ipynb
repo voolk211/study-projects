{
 "cells": [
  {
   "cell_type": "markdown",
   "id": "ebc866b1-f3cf-4def-84ec-03b4d4d03027",
   "metadata": {},
   "source": [
    "# Лабораторная работа 2\n",
    "\n",
    "## Встроенные типы объектов в Pyhon "
   ]
  },
  {
   "cell_type": "markdown",
   "id": "6115b244-ad8d-4bcd-b4cd-bba095ace361",
   "metadata": {},
   "source": [
    "Пальцев Вячеслав Витальевич, 09.03.2025"
   ]
  },
  {
   "cell_type": "markdown",
   "id": "39190b95-9a91-478a-97f4-6eb8d280c802",
   "metadata": {},
   "source": [
    "# Задание 1"
   ]
  },
  {
   "cell_type": "markdown",
   "id": "0b811419-663f-49be-8f20-5ee197bf45cc",
   "metadata": {},
   "source": [
    "# Встроенные типы\n",
    "## Числа\n",
    "\n",
    "Коллекции\n",
    "Целые числа\n",
    "Числа с плавающей точкой\n",
    "Комплексные числа \n",
    "Булевый тип\n",
    "\n",
    "## Коллекции\n",
    "Отображения\n",
    "Множества\n",
    "Последовательности\n",
    "Списки\n",
    "Строки\n",
    "Кортежи"
   ]
  },
  {
   "cell_type": "markdown",
   "id": "53b98e6a-b6f0-44e2-b4c4-2bbbd222b5ae",
   "metadata": {},
   "source": [
    "# Задание 2\n",
    "## Объект как фундаментальное понятие в Python. Встроенные типы объектов"
   ]
  },
  {
   "cell_type": "markdown",
   "id": "73cf9a99-2b4f-4d86-ab8f-2b3468b7807e",
   "metadata": {},
   "source": [
    "## 2.1 Понятие объекта. Атрибуты. Методы. Встроенные типы объектов"
   ]
  },
  {
   "cell_type": "markdown",
   "id": "358c4249-7374-487e-9e92-e07b24fd665f",
   "metadata": {},
   "source": [
    "## 2.2 Встроенные типы объектов, представляющих числа "
   ]
  },
  {
   "cell_type": "code",
   "execution_count": 254,
   "id": "befb084f-74b8-4e7b-a16b-3ceea66b4a14",
   "metadata": {},
   "outputs": [
    {
     "name": "stdout",
     "output_type": "stream",
     "text": [
      "22.11\n",
      "DecimalTuple(sign=0, digits=(2, 2, 1, 1), exponent=-2)\n",
      "55\n",
      "0.30000000000000004 0.3\n"
     ]
    }
   ],
   "source": [
    "import decimal as dec\n",
    "import fractions\n",
    "a=dec.Decimal('22.11')\n",
    "b=fractions.Fraction(55,3)\n",
    "print(a)\n",
    "print(a.as_tuple())\n",
    "print(b.numerator)\n",
    "\n",
    "print(0.1+0.2, dec.Decimal('0.1')+dec.Decimal('0.2'))"
   ]
  },
  {
   "cell_type": "markdown",
   "id": "f0145100-ce65-4c7d-a177-984fa0079be7",
   "metadata": {},
   "source": [
    "## 2.3 Встроенные типы последовательностей: str, list, tuple"
   ]
  },
  {
   "cell_type": "code",
   "execution_count": 256,
   "id": "074bc504-2459-4d75-bfd6-3c1065c9fdc8",
   "metadata": {},
   "outputs": [
    {
     "name": "stdout",
     "output_type": "stream",
     "text": [
      "slam\n"
     ]
    }
   ],
   "source": [
    "S='spam'\n",
    "S=S[0]+\"l\"+S[2:]\n",
    "print(S)"
   ]
  },
  {
   "cell_type": "markdown",
   "id": "b7521c65-f9a0-4a4d-9fe1-563ad51d88e4",
   "metadata": {},
   "source": [
    "## 2.4 Встроенный тип отображения: dict"
   ]
  },
  {
   "cell_type": "code",
   "execution_count": 5,
   "id": "efec34f4-2aa3-4a48-bb2e-a2aa7798d75a",
   "metadata": {},
   "outputs": [
    {
     "data": {
      "text/plain": [
       "('Slava', 'Paltsev')"
      ]
     },
     "execution_count": 5,
     "metadata": {},
     "output_type": "execute_result"
    }
   ],
   "source": [
    "data={'name':'Slava','otchestvo':'Vitalevich', 'surname':'Paltsev', 'adress':'Minsk',\n",
    "'age':18,'work':'student','email':'fate6002gmail.com','phone':7485546}\n",
    "data['name'], data['surname']"
   ]
  },
  {
   "cell_type": "markdown",
   "id": "5896c310-ce13-43da-90ed-3fb0b16e9c57",
   "metadata": {},
   "source": [
    "## 2.5 Встроенный тип множества: set"
   ]
  },
  {
   "cell_type": "code",
   "execution_count": 264,
   "id": "264ea935-d84b-4697-9c86-ab9e84487b98",
   "metadata": {},
   "outputs": [
    {
     "name": "stdout",
     "output_type": "stream",
     "text": [
      "{'a', 'c', 'v', 'd'}\n"
     ]
    }
   ],
   "source": [
    "S=\"aaacdv\"\n",
    "t = set(S)\n",
    "print(t)"
   ]
  },
  {
   "cell_type": "markdown",
   "id": "51d84474-f6a3-43d9-93da-918e0ba160fd",
   "metadata": {},
   "source": [
    "## 2.6 Встроенный булевый тип"
   ]
  },
  {
   "cell_type": "markdown",
   "id": "5a3d7b8e-bb77-4aa5-8221-dcbecd752a96",
   "metadata": {},
   "source": [
    "## 2.7 Изменяемые и неизменяемые встроенные типы объектов"
   ]
  },
  {
   "cell_type": "markdown",
   "id": "4ba3105f-a75c-4023-aea6-81c4f2d1749f",
   "metadata": {},
   "source": [
    "## 2.8 Интерфейс объекта: операции и методы"
   ]
  },
  {
   "cell_type": "code",
   "execution_count": 9,
   "id": "e7ed7262-36cc-4d1d-a42c-7c4aa0db51c1",
   "metadata": {},
   "outputs": [
    {
     "name": "stdout",
     "output_type": "stream",
     "text": [
      "1 3\n",
      "4 1\n",
      "6 3\n"
     ]
    }
   ],
   "source": [
    "s = 'Hello world!'\n",
    "print(s.index(\"e\"),s.count(\"l\"))\n",
    "\n",
    "lst=[1,2,3,4,5,\"2\",34,[64],5,7856,23143,565,34,2,2,2]\n",
    "print(lst.index(5),lst.count(\"2\"))\n",
    "\n",
    "tplt=(2,2,8,3,3,3,\"6\")+\n",
    "\n",
    "\n",
    "print(tplt.index(\"6\"),tplt.count(3))\n",
    "\n"
   ]
  },
  {
   "cell_type": "code",
   "execution_count": 23,
   "id": "03cd8c7a-ead0-4db6-be3f-5a33d14400d8",
   "metadata": {},
   "outputs": [
    {
     "name": "stdout",
     "output_type": "stream",
     "text": [
      "  --Helloworld--\n",
      "  --HELLOWORLD\n",
      "False\n",
      "HELLOWORLD\n",
      "True\n"
     ]
    }
   ],
   "source": [
    "s1=\"  --Helloworld--\"\n",
    "print(s1)\n",
    "s1 = s1.upper().strip(\"-\")\n",
    "print(s1)\n",
    "print(s1.isalnum()) #- Только из букв и цифр\n",
    "s1=s1.strip(\" \").strip(\"-\")\n",
    "print(s1)\n",
    "print(s1.isalnum()) #- Только из букв и цифр"
   ]
  },
  {
   "cell_type": "code",
   "execution_count": 26,
   "id": "232b6f02-f794-4213-8243-6519f1d7e237",
   "metadata": {},
   "outputs": [
    {
     "name": "stdout",
     "output_type": "stream",
     "text": [
      "[0, 1, 2, 3, 4, 5, 6]\n"
     ]
    }
   ],
   "source": [
    "lst=[1,2]\n",
    "lst.append(3)\n",
    "lst.insert(0,0)\n",
    "lst.extend([4,5,6])\n",
    "print(lst)"
   ]
  },
  {
   "cell_type": "code",
   "execution_count": 34,
   "id": "5b1487b9-c11b-4381-bcdb-243f008382cf",
   "metadata": {},
   "outputs": [
    {
     "name": "stdout",
     "output_type": "stream",
     "text": [
      "['ababa', 'grvds1', 'wqeqweqqqq']\n"
     ]
    }
   ],
   "source": [
    "words=[\"ababa\",\"grvds1\",\"wqeqweqqqq\"]\n",
    "words.sort(key=len)\n",
    "print(words)"
   ]
  },
  {
   "cell_type": "code",
   "execution_count": 36,
   "id": "129f8715-7658-452e-b3dc-6a50f12be61d",
   "metadata": {},
   "outputs": [
    {
     "name": "stdout",
     "output_type": "stream",
     "text": [
      "{1: 'car', 2: 'car', 3: 'car', 4: 'car', 5: 'car', 6: 'car', 7: 'car', 8: 'car', 9: 'car', 10: 'car', 11: 'car', 12: 'car', 13: 'car', 14: 'car', 15: 'car', 16: 'car', 17: 'car', 18: 'car', 19: 'car', 20: 'car', 21: 'car', 22: 'car', 23: 'car', 24: 'car', 25: 'car', 26: 'car', 27: 'car', 28: 'car', 29: 'car', 30: 'car', 31: 'car', 32: 'car', 33: 'car', 34: 'car', 35: 'car', 36: 'car', 37: 'car', 38: 'car', 39: 'car', 40: 'car', 41: 'car', 42: 'car', 43: 'car', 44: 'car', 45: 'car', 46: 'car', 47: 'car', 48: 'car', 49: 'car', 50: 'car', 51: 'car', 52: 'car', 53: 'car', 54: 'car', 55: 'car', 56: 'car', 57: 'car', 58: 'car', 59: 'car', 60: 'car', 61: 'car', 62: 'car', 63: 'car', 64: 'car', 65: 'car', 66: 'car', 67: 'car', 68: 'car', 69: 'car', 70: 'car', 71: 'car', 72: 'car', 73: 'car', 74: 'car', 75: 'car', 76: 'car', 77: 'car', 78: 'car', 79: 'car', 80: 'car', 81: 'car', 82: 'car', 83: 'car', 84: 'car', 85: 'car', 86: 'car', 87: 'car', 88: 'car', 89: 'car', 90: 'car', 91: 'car', 92: 'car', 93: 'car', 94: 'car', 95: 'car', 96: 'car', 97: 'car', 98: 'car', 99: 'car', 100: 'car'}\n"
     ]
    }
   ],
   "source": [
    "diction = {i:\"car\" for i in range(1,101,1)}\n",
    "print(diction)"
   ]
  },
  {
   "cell_type": "markdown",
   "id": "2a769b1b-4125-48b8-afb3-4df5501e1218",
   "metadata": {},
   "source": [
    "##  2.9 Переменная"
   ]
  },
  {
   "cell_type": "code",
   "execution_count": 6,
   "id": "5829c3a8-47c9-4fc9-bfb9-fc83b31f6690",
   "metadata": {},
   "outputs": [
    {
     "name": "stdout",
     "output_type": "stream",
     "text": [
      "[1, 2, 3, [...]]\n"
     ]
    }
   ],
   "source": [
    "a=[1,2,3]\n",
    "a.append(a)\n",
    "print(a)"
   ]
  },
  {
   "cell_type": "code",
   "execution_count": 7,
   "id": "579243dd-5dad-4fff-b443-1415441d3b98",
   "metadata": {},
   "outputs": [
    {
     "name": "stdout",
     "output_type": "stream",
     "text": [
      "{'1': 1, '2': {...}}\n"
     ]
    }
   ],
   "source": [
    "a={'1':1}\n",
    "a['2']=a;\n",
    "print(a)"
   ]
  },
  {
   "cell_type": "code",
   "execution_count": 43,
   "id": "b6993f34-8bab-4b13-bf2a-0f889a8ca476",
   "metadata": {},
   "outputs": [
    {
     "name": "stdout",
     "output_type": "stream",
     "text": [
      "<class 'tuple'>\n",
      "([0, 1, 2, 3, 4, (...)],)\n"
     ]
    }
   ],
   "source": [
    "a=[i for i in range(5)],\n",
    "a[0].append(a)\n",
    "print(type(a))\n",
    "print(a)"
   ]
  },
  {
   "cell_type": "code",
   "execution_count": 50,
   "id": "174f7b99-9683-4734-947c-e229d6701207",
   "metadata": {},
   "outputs": [],
   "source": [
    "import sys\n",
    "a=b=c=12222"
   ]
  },
  {
   "cell_type": "code",
   "execution_count": 51,
   "id": "1c332590-74e6-4328-a969-23476ebca038",
   "metadata": {},
   "outputs": [
    {
     "data": {
      "text/plain": [
       "4"
      ]
     },
     "execution_count": 51,
     "metadata": {},
     "output_type": "execute_result"
    }
   ],
   "source": [
    "sys.getrefcount(a)"
   ]
  },
  {
   "cell_type": "code",
   "execution_count": 54,
   "id": "d350037a-eb3e-45a4-90af-07176ddf7697",
   "metadata": {},
   "outputs": [
    {
     "data": {
      "text/plain": [
       "([1, 2, 3, 4], [1, 2, 3, 4])"
      ]
     },
     "execution_count": 54,
     "metadata": {},
     "output_type": "execute_result"
    }
   ],
   "source": [
    "data = [1,2,3,4]\n",
    "data1 = data[:]\n",
    "data1, data"
   ]
  },
  {
   "cell_type": "code",
   "execution_count": 55,
   "id": "2c775c05-7c21-4384-b3de-808e5a4f00e4",
   "metadata": {},
   "outputs": [
    {
     "data": {
      "text/plain": [
       "([1, 2, 3, 4], [1, 2, 3, 4])"
      ]
     },
     "execution_count": 55,
     "metadata": {},
     "output_type": "execute_result"
    }
   ],
   "source": [
    "data2 = data.copy()\n",
    "data, data2"
   ]
  },
  {
   "cell_type": "code",
   "execution_count": 56,
   "id": "99eac559-0b54-4c66-a11b-78ff079711ed",
   "metadata": {},
   "outputs": [
    {
     "data": {
      "text/plain": [
       "([1, 2, 3, 4], [1, 2, 3, 4])"
      ]
     },
     "execution_count": 56,
     "metadata": {},
     "output_type": "execute_result"
    }
   ],
   "source": [
    "data3=data.__class__(data)\n",
    "data3,data"
   ]
  },
  {
   "cell_type": "markdown",
   "id": "cfee8e3c-5f9b-493a-b11e-5d9ffded56ac",
   "metadata": {},
   "source": [
    "##  2.9 Выражение спискового включения "
   ]
  },
  {
   "cell_type": "code",
   "execution_count": 58,
   "id": "c9a74a02-7e2e-4750-b71f-a8668a351ac8",
   "metadata": {},
   "outputs": [
    {
     "data": {
      "text/plain": [
       "{2, 4, 6, 8}"
      ]
     },
     "execution_count": 58,
     "metadata": {},
     "output_type": "execute_result"
    }
   ],
   "source": [
    "{x for x in [1,2,3,4,5,6,7,8] if x%2==0}"
   ]
  },
  {
   "cell_type": "code",
   "execution_count": 31,
   "id": "29cced63-7c56-4b86-b988-37db249f3b1f",
   "metadata": {},
   "outputs": [
    {
     "data": {
      "text/plain": [
       "[['00', '01', '02', '03', '04', '05', '06', '07', '08'],\n",
       " ['10', '11', '12', '13', '14', '15', '16', '17', '18'],\n",
       " ['20', '21', '22', '23', '24', '25', '26', '27', '28'],\n",
       " ['30', '31', '32', '33', '34', '35', '36', '37', '38'],\n",
       " ['40', '41', '42', '43', '44', '45', '46', '47', '48'],\n",
       " ['50', '51', '52', '53', '54', '55', '56', '57', '58'],\n",
       " ['60', '61', '62', '63', '64', '65', '66', '67', '68'],\n",
       " ['70', '71', '72', '73', '74', '75', '76', '77', '78']]"
      ]
     },
     "execution_count": 31,
     "metadata": {},
     "output_type": "execute_result"
    }
   ],
   "source": [
    "[[f'{i}{j}' for j in range(9)] for i in range(8)]"
   ]
  },
  {
   "cell_type": "code",
   "execution_count": 33,
   "id": "a6083622-2713-42a9-bfb7-10fa293af47e",
   "metadata": {},
   "outputs": [
    {
     "data": {
      "text/plain": [
       "[['00', '01', '02', '03', '04', '05', '06', '07', '08'],\n",
       " ['10', '11', '12', '13', '14', '15', '16', '17', '18'],\n",
       " ['20', '21', '22', '23', '24', '25', '26', '27', '28'],\n",
       " ['30', '31', '32', '33', '34', '35', '36', '37', '38'],\n",
       " ['40', '41', '42', '43', '44', '45', '46', '47', '48'],\n",
       " ['50', '51', '52', '53', '54', '55', '56', '57', '58'],\n",
       " ['60', '61', '62', '63', '64', '65', '66', '67', '68'],\n",
       " ['70', '71', '72', '73', '74', '75', '76', '77', '78']]"
      ]
     },
     "execution_count": 33,
     "metadata": {},
     "output_type": "execute_result"
    }
   ],
   "source": [
    "import numpy as np\n",
    "[[f'{i}{j}' for j in np.arange(9)] for i in np.arange(8)]"
   ]
  },
  {
   "cell_type": "code",
   "execution_count": 67,
   "id": "2e9065de-3c9c-4c73-9735-1029efcfc19d",
   "metadata": {},
   "outputs": [
    {
     "data": {
      "text/plain": [
       "{'1': [1, 2, 3], '2': [1, 2, 3], '3': [1, 2, 3]}"
      ]
     },
     "execution_count": 67,
     "metadata": {},
     "output_type": "execute_result"
    }
   ],
   "source": [
    "{i: [x for x in [1,2,3]] for i in ['1', '2', '3']}"
   ]
  },
  {
   "cell_type": "markdown",
   "id": "6b27d79d-d147-4a40-9694-d00213bdb835",
   "metadata": {},
   "source": [
    "## 2.11 Форматированный вывод строк"
   ]
  },
  {
   "cell_type": "code",
   "execution_count": 75,
   "id": "eeaa81c9-0116-4c35-9f02-b1d626d5322a",
   "metadata": {},
   "outputs": [
    {
     "data": {
      "text/plain": [
       "'a=2.35 - округленное число a'"
      ]
     },
     "execution_count": 75,
     "metadata": {},
     "output_type": "execute_result"
    }
   ],
   "source": [
    "a=2.347\n",
    "\n",
    "f'{a=:.2f} - округленное число a'"
   ]
  },
  {
   "cell_type": "code",
   "execution_count": 76,
   "id": "7441e8ef-0e71-4828-a130-5cf217c05b99",
   "metadata": {},
   "outputs": [
    {
     "data": {
      "text/plain": [
       "'a=2.35 - округленное число a'"
      ]
     },
     "execution_count": 76,
     "metadata": {},
     "output_type": "execute_result"
    }
   ],
   "source": [
    "\"a={:.2f} - округленное число a\".format(a)"
   ]
  },
  {
   "cell_type": "code",
   "execution_count": 82,
   "id": "a5dd0758-4d0c-4a00-9c6d-fc1d3076c9f0",
   "metadata": {},
   "outputs": [
    {
     "data": {
      "text/plain": [
       "'a=2.35 - округленное число a'"
      ]
     },
     "execution_count": 82,
     "metadata": {},
     "output_type": "execute_result"
    }
   ],
   "source": [
    "\"a=%.2f - округленное число a\"%(a)"
   ]
  },
  {
   "cell_type": "code",
   "execution_count": 100,
   "id": "6f8fd77b-3e53-46ab-ace2-a8e9a0bf87ee",
   "metadata": {},
   "outputs": [
    {
     "data": {
      "text/plain": [
       "'a**5+4=1.028e+03'"
      ]
     },
     "execution_count": 100,
     "metadata": {},
     "output_type": "execute_result"
    }
   ],
   "source": [
    "a=4\n",
    "f'{a**5+4=:.3e}'"
   ]
  },
  {
   "cell_type": "code",
   "execution_count": 101,
   "id": "5289cfbf-6e55-471d-bc92-5f5962ac0ad5",
   "metadata": {},
   "outputs": [
    {
     "data": {
      "text/plain": [
       "'a**5+4=1.028e+03'"
      ]
     },
     "execution_count": 101,
     "metadata": {},
     "output_type": "execute_result"
    }
   ],
   "source": [
    "\"a**5+4={:.3e}\".format(a**5+4)"
   ]
  },
  {
   "cell_type": "code",
   "execution_count": 102,
   "id": "8f25099c-7fc3-4878-9760-cef9f9624d25",
   "metadata": {},
   "outputs": [
    {
     "data": {
      "text/plain": [
       "'a**5+4=1.028e+03'"
      ]
     },
     "execution_count": 102,
     "metadata": {},
     "output_type": "execute_result"
    }
   ],
   "source": [
    "\"a**5+4=%.3e\"%(a**5+4)"
   ]
  },
  {
   "cell_type": "markdown",
   "id": "5a18392a-7157-45bf-abfa-757aa441cc73",
   "metadata": {},
   "source": [
    "## 2.12 Файловый объект "
   ]
  },
  {
   "cell_type": "code",
   "execution_count": 9,
   "id": "1e602d5d-878f-4df8-b625-c40127abf99d",
   "metadata": {},
   "outputs": [
    {
     "name": "stdout",
     "output_type": "stream",
     "text": [
      "lallalal\n",
      "lallala\n",
      "la\n",
      "lallalalbabababa\n",
      "babababa\n"
     ]
    }
   ],
   "source": [
    "file = open('text.txt')\n",
    "print(file.read())\n",
    "file.close()"
   ]
  },
  {
   "cell_type": "code",
   "execution_count": 11,
   "id": "5197bd9d-33d4-4983-bacf-2a46e82b11ae",
   "metadata": {},
   "outputs": [
    {
     "name": "stdout",
     "output_type": "stream",
     "text": [
      "lallalal\n",
      "\n"
     ]
    }
   ],
   "source": [
    "file = open('text.txt')\n",
    "print(file.readline())\n",
    "file.close()"
   ]
  },
  {
   "cell_type": "code",
   "execution_count": 13,
   "id": "6ba3bd0c-e272-443c-b833-e817cb564d46",
   "metadata": {},
   "outputs": [
    {
     "name": "stdout",
     "output_type": "stream",
     "text": [
      "lallalal\n",
      "lallala\n",
      "la\n",
      "lallalalbabababa\n",
      "babababababababa\n"
     ]
    }
   ],
   "source": [
    "file = open('text.txt','a')\n",
    "file.write('babababa')\n",
    "file.close()\n",
    "file = open('text.txt')\n",
    "print(file.read())\n",
    "file.close()"
   ]
  },
  {
   "cell_type": "code",
   "execution_count": 15,
   "id": "7bff50ec-327f-479f-ab4f-5f40e3d7e1fc",
   "metadata": {},
   "outputs": [
    {
     "ename": "IndexError",
     "evalue": "string index out of range",
     "output_type": "error",
     "traceback": [
      "\u001b[1;31m---------------------------------------------------------------------------\u001b[0m",
      "\u001b[1;31mIndexError\u001b[0m                                Traceback (most recent call last)",
      "Cell \u001b[1;32mIn[15], line 3\u001b[0m\n\u001b[0;32m      1\u001b[0m \u001b[38;5;66;03m#ошибка тк вне пределов строки\u001b[39;00m\n\u001b[0;32m      2\u001b[0m str1 \u001b[38;5;241m=\u001b[39m \u001b[38;5;124m'\u001b[39m\u001b[38;5;124mString\u001b[39m\u001b[38;5;124m'\u001b[39m; \n\u001b[1;32m----> 3\u001b[0m str1[\u001b[38;5;241m10\u001b[39m]\n",
      "\u001b[1;31mIndexError\u001b[0m: string index out of range"
     ]
    }
   ],
   "source": [
    "#ошибка тк вне пределов строки\n",
    "str1 = 'String'; \n",
    "str1[10]"
   ]
  },
  {
   "cell_type": "code",
   "execution_count": 17,
   "id": "a0ac26e7-0095-42f3-a408-03f39d3b6e02",
   "metadata": {},
   "outputs": [
    {
     "ename": "TypeError",
     "evalue": "can only concatenate list (not \"str\") to list",
     "output_type": "error",
     "traceback": [
      "\u001b[1;31m---------------------------------------------------------------------------\u001b[0m",
      "\u001b[1;31mTypeError\u001b[0m                                 Traceback (most recent call last)",
      "Cell \u001b[1;32mIn[17], line 2\u001b[0m\n\u001b[0;32m      1\u001b[0m \u001b[38;5;66;03m#изза строгой типизации объекты должны быть одного типа\u001b[39;00m\n\u001b[1;32m----> 2\u001b[0m [\u001b[38;5;241m1\u001b[39m] \u001b[38;5;241m+\u001b[39m \u001b[38;5;124m'\u001b[39m\u001b[38;5;124m1\u001b[39m\u001b[38;5;124m'\u001b[39m\n",
      "\u001b[1;31mTypeError\u001b[0m: can only concatenate list (not \"str\") to list"
     ]
    }
   ],
   "source": [
    "#изза строгой типизации объекты должны быть одного типа\n",
    "[1] + '1'"
   ]
  },
  {
   "cell_type": "code",
   "execution_count": 19,
   "id": "ec12b3c3-a2d4-4818-890d-8efff1cda255",
   "metadata": {},
   "outputs": [
    {
     "ename": "KeyError",
     "evalue": "'two'",
     "output_type": "error",
     "traceback": [
      "\u001b[1;31m---------------------------------------------------------------------------\u001b[0m",
      "\u001b[1;31mKeyError\u001b[0m                                  Traceback (most recent call last)",
      "Cell \u001b[1;32mIn[19], line 3\u001b[0m\n\u001b[0;32m      1\u001b[0m \u001b[38;5;66;03m#несуществующий ключ\u001b[39;00m\n\u001b[0;32m      2\u001b[0m dict1 \u001b[38;5;241m=\u001b[39m {\u001b[38;5;124m'\u001b[39m\u001b[38;5;124mone\u001b[39m\u001b[38;5;124m'\u001b[39m: \u001b[38;5;241m1\u001b[39m,\u001b[38;5;124m\"\u001b[39m\u001b[38;5;124mnew\u001b[39m\u001b[38;5;124m\"\u001b[39m:\u001b[38;5;241m4\u001b[39m}\n\u001b[1;32m----> 3\u001b[0m dict1[\u001b[38;5;124m\"\u001b[39m\u001b[38;5;124mtwo\u001b[39m\u001b[38;5;124m\"\u001b[39m]\n",
      "\u001b[1;31mKeyError\u001b[0m: 'two'"
     ]
    }
   ],
   "source": [
    "#несуществующий ключ\n",
    "dict1 = {'one': 1,\"new\":4}\n",
    "dict1[\"two\"]\n"
   ]
  },
  {
   "cell_type": "code",
   "execution_count": 21,
   "id": "14ce0b7e-8781-4542-a7a1-2d505ca44adc",
   "metadata": {},
   "outputs": [
    {
     "ename": "TypeError",
     "evalue": "'tuple' object does not support item assignment",
     "output_type": "error",
     "traceback": [
      "\u001b[1;31m---------------------------------------------------------------------------\u001b[0m",
      "\u001b[1;31mTypeError\u001b[0m                                 Traceback (most recent call last)",
      "Cell \u001b[1;32mIn[21], line 1\u001b[0m\n\u001b[1;32m----> 1\u001b[0m t \u001b[38;5;241m=\u001b[39m [\u001b[38;5;241m1\u001b[39m,\u001b[38;5;241m2\u001b[39m], {\u001b[38;5;241m1\u001b[39m:\u001b[38;5;241m2\u001b[39m}, {\u001b[38;5;241m1\u001b[39m,\u001b[38;5;241m2\u001b[39m}; t[\u001b[38;5;241m0\u001b[39m] \u001b[38;5;241m=\u001b[39m \u001b[38;5;241m0\u001b[39m\n",
      "\u001b[1;31mTypeError\u001b[0m: 'tuple' object does not support item assignment"
     ]
    }
   ],
   "source": [
    "#кортеж не поддерживает изменения\n",
    "t = [1,2], {1:2}, {1,2}; t[0] = 0"
   ]
  },
  {
   "cell_type": "code",
   "execution_count": null,
   "id": "f8a68927-5fad-4784-85fa-217245aefe73",
   "metadata": {},
   "outputs": [],
   "source": [
    "{1, 'str', (1,)}.add([1])\n",
    "#ошибки тк множества неизменяемые типы поддерживают"
   ]
  },
  {
   "cell_type": "code",
   "execution_count": 23,
   "id": "88115290-271c-4c8a-b4f7-59f07d802e93",
   "metadata": {},
   "outputs": [
    {
     "ename": "ValueError",
     "evalue": "substring not found",
     "output_type": "error",
     "traceback": [
      "\u001b[1;31m---------------------------------------------------------------------------\u001b[0m",
      "\u001b[1;31mValueError\u001b[0m                                Traceback (most recent call last)",
      "Cell \u001b[1;32mIn[23], line 2\u001b[0m\n\u001b[0;32m      1\u001b[0m s\u001b[38;5;241m=\u001b[39m\u001b[38;5;124m'\u001b[39m\u001b[38;5;124mstring\u001b[39m\u001b[38;5;124m'\u001b[39m\n\u001b[1;32m----> 2\u001b[0m \u001b[38;5;28mprint\u001b[39m(s, s\u001b[38;5;241m.\u001b[39mindex(\u001b[38;5;124m'\u001b[39m\u001b[38;5;124m-\u001b[39m\u001b[38;5;124m'\u001b[39m))\n",
      "\u001b[1;31mValueError\u001b[0m: substring not found"
     ]
    }
   ],
   "source": [
    "s='string'\n",
    "print(s, s.index('-'))О\n",
    "#ошибка тк индекс если такой подстроки нет выдает ошибку в отличие от find"
   ]
  },
  {
   "cell_type": "code",
   "execution_count": 25,
   "id": "be9a0245-613d-42d1-b02e-e26fd5863327",
   "metadata": {},
   "outputs": [
    {
     "ename": "NameError",
     "evalue": "name 'd1' is not defined",
     "output_type": "error",
     "traceback": [
      "\u001b[1;31m---------------------------------------------------------------------------\u001b[0m",
      "\u001b[1;31mNameError\u001b[0m                                 Traceback (most recent call last)",
      "Cell \u001b[1;32mIn[25], line 2\u001b[0m\n\u001b[0;32m      1\u001b[0m a \u001b[38;5;241m=\u001b[39m \u001b[38;5;241m1\u001b[39m \n\u001b[1;32m----> 2\u001b[0m a, d1\n",
      "\u001b[1;31mNameError\u001b[0m: name 'd1' is not defined"
     ]
    }
   ],
   "source": [
    "a = 1 \n",
    "a, d1 #ошибка тк переменной нужно дать значение"
   ]
  },
  {
   "cell_type": "code",
   "execution_count": 29,
   "id": "0f817ba9-5018-4672-8044-f11bb338ddab",
   "metadata": {},
   "outputs": [
    {
     "ename": "TypeError",
     "evalue": "'int' object is not callable",
     "output_type": "error",
     "traceback": [
      "\u001b[1;31m---------------------------------------------------------------------------\u001b[0m",
      "\u001b[1;31mTypeError\u001b[0m                                 Traceback (most recent call last)",
      "Cell \u001b[1;32mIn[29], line 1\u001b[0m\n\u001b[1;32m----> 1\u001b[0m \u001b[38;5;28mprint\u001b[39m(\u001b[38;5;28mabs\u001b[39m(\u001b[38;5;241m-\u001b[39m\u001b[38;5;241m1\u001b[39m))\n\u001b[0;32m      2\u001b[0m \u001b[38;5;28mabs\u001b[39m \u001b[38;5;241m=\u001b[39m \u001b[38;5;241m4\u001b[39m\n\u001b[0;32m      3\u001b[0m \u001b[38;5;28mprint\u001b[39m(\u001b[38;5;28mabs\u001b[39m)\n",
      "\u001b[1;31mTypeError\u001b[0m: 'int' object is not callable"
     ]
    }
   ],
   "source": [
    "print(abs(-1))\n",
    "abs = 4\n",
    "print(abs)\n",
    "#Зарезервированные имена нельзя использовать в кчастве переменных"
   ]
  },
  {
   "cell_type": "code",
   "execution_count": 57,
   "id": "19667529-910d-42f6-8d1e-9956da11af6a",
   "metadata": {},
   "outputs": [
    {
     "data": {
      "text/plain": [
       "{1: 2}"
      ]
     },
     "execution_count": 57,
     "metadata": {},
     "output_type": "execute_result"
    }
   ],
   "source": []
  },
  {
   "cell_type": "code",
   "execution_count": null,
   "id": "30db0b2b-24a2-43f0-b097-f32769910b75",
   "metadata": {},
   "outputs": [],
   "source": [
    "print('\\c \\xc6')\n",
    "#Ошибка тк питон не распознает символ после \\ в качестве допустимого управляющего кода, исправить это можно добавив r'\\c или же просто без \\с "
   ]
  },
  {
   "cell_type": "code",
   "execution_count": 61,
   "id": "aa433ed4-9f34-4bdd-bb9a-b27fecf6274f",
   "metadata": {},
   "outputs": [
    {
     "data": {
      "text/plain": [
       "'123456'"
      ]
     },
     "execution_count": 61,
     "metadata": {},
     "output_type": "execute_result"
    }
   ],
   "source": [
    "s=\"123456.pdf\"\n",
    "s[:-4]"
   ]
  },
  {
   "cell_type": "code",
   "execution_count": null,
   "id": "231e05ad-b7a2-4943-b331-0678b8bd7c1a",
   "metadata": {},
   "outputs": [],
   "source": []
  }
 ],
 "metadata": {
  "kernelspec": {
   "display_name": "Python [conda env:base] *",
   "language": "python",
   "name": "conda-base-py"
  },
  "language_info": {
   "codemirror_mode": {
    "name": "ipython",
    "version": 3
   },
   "file_extension": ".py",
   "mimetype": "text/x-python",
   "name": "python",
   "nbconvert_exporter": "python",
   "pygments_lexer": "ipython3",
   "version": "3.12.7"
  }
 },
 "nbformat": 4,
 "nbformat_minor": 5
}
