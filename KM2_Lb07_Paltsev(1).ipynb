{
 "cells": [
  {
   "cell_type": "markdown",
   "id": "9c6053d5-a93a-4ce0-9890-dbb5e86ce65f",
   "metadata": {},
   "source": [
    "# Лабораторная работа 7\n",
    "# Построение бинарного дерева поиска. Подсчет количества элементов в дереве"
   ]
  },
  {
   "cell_type": "markdown",
   "id": "78ff1b30-4f61-4b13-a95c-940558bd646b",
   "metadata": {},
   "source": [
    "#### Пальцев Вячеслав 18.05"
   ]
  },
  {
   "cell_type": "code",
   "execution_count": 2,
   "id": "dcb94c1f-f083-4bae-acf1-2bc723316339",
   "metadata": {},
   "outputs": [],
   "source": [
    "class BinaryTree:\n",
    "    def __init__(self):\n",
    "        self.root = EmptyNode()\n",
    "    def __repr__(self):\n",
    "        return repr(self.root)\n",
    "    def insert(self, value):\n",
    "        self.root = self.root.insert(value)"
   ]
  },
  {
   "cell_type": "code",
   "execution_count": 3,
   "id": "02728708-caa5-4bb0-9ec7-8d79efd475c7",
   "metadata": {},
   "outputs": [],
   "source": [
    "class BinaryNode:\n",
    "    def __init__(self, left, value, right):\n",
    "        self.left = left\n",
    "        self.value = value\n",
    "        self.right = right\n",
    "\n",
    "    def __repr__(self):\n",
    "        return f'({self.left}, {self.value}, {self.right})'"
   ]
  },
  {
   "cell_type": "code",
   "execution_count": 4,
   "id": "ada22dec-e12c-43d8-89c5-684e97bc6fcd",
   "metadata": {},
   "outputs": [],
   "source": [
    "class EmptyNode:\n",
    "    def __repr__(self):\n",
    "        return '*'\n",
    "\n",
    "    def insert(self, value):\n",
    "        return BinaryNode(self, value, self)"
   ]
  },
  {
   "cell_type": "code",
   "execution_count": 5,
   "id": "03a3b445-7f14-4dd2-8da1-d2d87972110a",
   "metadata": {},
   "outputs": [],
   "source": [
    "class BinaryNode:\n",
    "    def __init__(self, left, value, right):\n",
    "        self.left = left\n",
    "        self.value = value\n",
    "        self.right = right\n",
    "\n",
    "    def __repr__(self):\n",
    "        return f'({self.left}, {self.value}, {self.right})'\n",
    "\n",
    "    def insert(self, value):\n",
    "         if value<self.value:\n",
    "             self.left =self.left.insert(value)\n",
    "         else:\n",
    "             self.right =self.right.insert(value)\n",
    "         return self"
   ]
  },
  {
   "cell_type": "code",
   "execution_count": 6,
   "id": "0f4449bb-ae8e-48f8-81e9-8ef9d309f40b",
   "metadata": {},
   "outputs": [],
   "source": [
    "tree1=BinaryTree()"
   ]
  },
  {
   "cell_type": "code",
   "execution_count": 7,
   "id": "fa4a7975-edb4-46ed-8eb9-c376645797ae",
   "metadata": {},
   "outputs": [],
   "source": [
    "source_data = [5,1,10,3,4]"
   ]
  },
  {
   "cell_type": "code",
   "execution_count": 8,
   "id": "4cc4a9a7-8581-44df-b1af-3d88801da6d9",
   "metadata": {
    "scrolled": true
   },
   "outputs": [
    {
     "name": "stdout",
     "output_type": "stream",
     "text": [
      "(*, 5, *)\n",
      "((*, 1, *), 5, *)\n",
      "((*, 1, *), 5, (*, 10, *))\n",
      "((*, 1, (*, 3, *)), 5, (*, 10, *))\n",
      "((*, 1, (*, 3, (*, 4, *))), 5, (*, 10, *))\n"
     ]
    }
   ],
   "source": [
    "for i in source_data:\n",
    "    tree1.insert(i)\n",
    "    print(tree1)"
   ]
  },
  {
   "cell_type": "code",
   "execution_count": 9,
   "id": "19648d96-a4da-4100-84fa-603b4d8d2dc5",
   "metadata": {},
   "outputs": [],
   "source": [
    "tree2=BinaryTree()"
   ]
  },
  {
   "cell_type": "code",
   "execution_count": 10,
   "id": "91cc2a71-4fbb-492f-b2bc-1b9b095a7634",
   "metadata": {},
   "outputs": [
    {
     "data": {
      "text/plain": [
       "(*, -4, (*, -3, (*, -2, (*, -1, (*, 0, (*, 1, (*, 2, (*, 3, (*, 4, *)))))))))"
      ]
     },
     "execution_count": 10,
     "metadata": {},
     "output_type": "execute_result"
    }
   ],
   "source": [
    "for i in range(-4,5):\n",
    "    tree2.insert(i)\n",
    "tree2"
   ]
  },
  {
   "cell_type": "code",
   "execution_count": 11,
   "id": "762c8eb4-0809-44b7-8f8b-ff9cdc292c2a",
   "metadata": {},
   "outputs": [
    {
     "data": {
      "text/plain": [
       "((*,  , (*, !, *)), H, ((*, W, (*, d, *)), e, (*, l, (*, l, ((*, l, *), o, (*, o, (*, r, *)))))))"
      ]
     },
     "execution_count": 11,
     "metadata": {},
     "output_type": "execute_result"
    }
   ],
   "source": [
    "tree3=BinaryTree()\n",
    "for i in \"Hello World!\":\n",
    "    tree3.insert(i)\n",
    "tree3"
   ]
  },
  {
   "cell_type": "markdown",
   "id": "aec3e76f-ce70-44cc-9d97-18fc9d679127",
   "metadata": {},
   "source": [
    "# Задание 7.3 Построение бинарного дерева поиска"
   ]
  },
  {
   "cell_type": "code",
   "execution_count": 17,
   "id": "64eb0818-b051-4bda-9ce6-a8b62b16c4a3",
   "metadata": {},
   "outputs": [
    {
     "data": {
      "text/plain": [
       "(((*, 2, (*, 2, *)), 3, ((*, 3, *), 4, (*, 4, *))), 5, ((*, 5, (*, 5, *)), 7, (*, 7, (*, 8, (*, 95, *)))))"
      ]
     },
     "execution_count": 17,
     "metadata": {},
     "output_type": "execute_result"
    }
   ],
   "source": [
    "tree1 = BinaryTree()\n",
    "with open(\"numbers1.txt\", \"r\") as f:\n",
    "    for l in f:\n",
    "        number = int(l.strip())\n",
    "        tree1.insert(number)\n",
    "tree1"
   ]
  },
  {
   "cell_type": "code",
   "execution_count": 18,
   "id": "1c8417ce-d85a-4757-833c-05688490cf9b",
   "metadata": {},
   "outputs": [
    {
     "data": {
      "text/plain": [
       "(((*, 2, (*, 2, *)), 3, *), 5, ((*, 6, *), 7, (*, 7, ((*, 8, *), 9, (((*, 9, *), 12, ((*, 18, (*, 29, *)), 34, *)), 35, ((*, 37, *), 45, (*, 89, *)))))))"
      ]
     },
     "execution_count": 18,
     "metadata": {},
     "output_type": "execute_result"
    }
   ],
   "source": [
    "import numpy as np\n",
    "tree2=BinaryTree()\n",
    "file=np.loadtxt(\"numbers2.txt\")\n",
    "for row in file:\n",
    "    for i in row:\n",
    "        tree2.insert(int(i)) \n",
    "tree2"
   ]
  },
  {
   "cell_type": "code",
   "execution_count": 19,
   "id": "fa9cb528-d5d5-42cc-93fd-be087719d092",
   "metadata": {},
   "outputs": [
    {
     "data": {
      "text/plain": [
       "((*, 2, (*, 23, *)), 3, ((*, 3, (*, 3, *)), 4, ((*, 4, (((*, 4, *), 5, (*, 5, *)), 55, (*, 6, *))), 7, ((*, 7, (*, 8, (*, 8, *))), 84, (*, 9, (*, 9, *))))))"
      ]
     },
     "execution_count": 19,
     "metadata": {},
     "output_type": "execute_result"
    }
   ],
   "source": [
    "tree3 = BinaryTree()\n",
    "with open(\"numbers3.txt\", \"r\") as f:\n",
    "    for line in f:\n",
    "        line1=line.strip().split()\n",
    "        for i in line1:\n",
    "            tree3.insert(i)\n",
    "tree3"
   ]
  },
  {
   "cell_type": "code",
   "execution_count": 20,
   "id": "4c7a4d17-d247-41f9-a455-450d73948424",
   "metadata": {},
   "outputs": [
    {
     "data": {
      "text/plain": [
       "(((*, 2, (*, 2, *)), 3, ((*, 3, *), 4, (*, 4, *))), 5, ((*, 5, (*, 5, *)), 7, (*, 7, (*, 8, (*, 95, *)))))"
      ]
     },
     "execution_count": 20,
     "metadata": {},
     "output_type": "execute_result"
    }
   ],
   "source": [
    "import json\n",
    "tree4 = BinaryTree()\n",
    "with open(\"numbers4.json\", \"r\") as f:\n",
    "    data = json.load(f)         \n",
    "    for elem in data.values():\n",
    "        for num in elem:\n",
    "            tree4.insert(num)\n",
    "tree4"
   ]
  },
  {
   "cell_type": "markdown",
   "id": "6eea767f-b69b-4a01-9c9d-e9453b67969f",
   "metadata": {},
   "source": [
    "# Задание 7.4 Перегрузка операции принадлежности in"
   ]
  },
  {
   "cell_type": "code",
   "execution_count": 13,
   "id": "6556ad1c-2682-49c6-8721-bc4a9bd3874f",
   "metadata": {},
   "outputs": [],
   "source": [
    "class BinaryTree:\n",
    "    def __init__(self):\n",
    "        self.root = EmptyNode()\n",
    "    def __repr__(self):\n",
    "        return repr(self.root)\n",
    "    def insert(self, value):\n",
    "        self.root = self.root.insert(value)\n",
    "    def __contains__(self, value):\n",
    "        return value in self.root"
   ]
  },
  {
   "cell_type": "code",
   "execution_count": 21,
   "id": "ee7ba512-a561-4ace-b00b-09e65734aacf",
   "metadata": {},
   "outputs": [],
   "source": [
    "class BinaryNode:\n",
    "    def __init__(self, left, value, right):\n",
    "        self.left = left\n",
    "        self.value = value\n",
    "        self.right = right\n",
    "\n",
    "    def __repr__(self):\n",
    "        return f'({self.left}, {self.value}, {self.right})'\n",
    "\n",
    "    def insert(self, value):\n",
    "         if value<self.value:\n",
    "             self.left =self.left.insert(value)\n",
    "         else:\n",
    "             self.right =self.right.insert(value)\n",
    "         return self\n",
    "    def __contains__(self, value):\n",
    "        if value==self.value:\n",
    "            return True\n",
    "        if value<self.value:\n",
    "            return value in self.left\n",
    "        if value>self.value:\n",
    "            return value in self.right "
   ]
  },
  {
   "cell_type": "code",
   "execution_count": 22,
   "id": "fa90a44d-a803-46f1-898b-928cbdf40b0d",
   "metadata": {},
   "outputs": [],
   "source": [
    "class EmptyNode:\n",
    "    def __repr__(self):\n",
    "        return '*'\n",
    "\n",
    "    def insert(self, value):\n",
    "        return BinaryNode(self, value, self)\n",
    "    def __contains__(self, value):\n",
    "        return False"
   ]
  },
  {
   "cell_type": "code",
   "execution_count": 23,
   "id": "3d408c86-d4fa-4038-b9da-c6b75a157e81",
   "metadata": {},
   "outputs": [
    {
     "name": "stdout",
     "output_type": "stream",
     "text": [
      "(*, 5, *)\n",
      "((*, 1, *), 5, *)\n",
      "((*, 1, *), 5, (*, 10, *))\n",
      "((*, 1, (*, 3, *)), 5, (*, 10, *))\n",
      "((*, 1, (*, 3, (*, 4, *))), 5, (*, 10, *))\n",
      "(0, False) (1, True) (2, False) (3, True) (4, True) (5, True) (6, False) (7, False) (8, False) (9, False) "
     ]
    }
   ],
   "source": [
    "source_data = [5,1,10,3,4]\n",
    "tree = BinaryTree()\n",
    "for i in source_data:\n",
    "    tree.insert(i)\n",
    "    print(tree)\n",
    "for i in range(10):\n",
    "    print((i, i in tree), end = ' ')\n"
   ]
  },
  {
   "cell_type": "markdown",
   "id": "47f9f93e-54e9-4f36-8c9d-8502f962a01b",
   "metadata": {},
   "source": [
    "# Задание 7.5 Перегрузка встроенной функции len"
   ]
  },
  {
   "cell_type": "code",
   "execution_count": 25,
   "id": "1c752868-8231-4f74-9d65-3b3164999feb",
   "metadata": {},
   "outputs": [],
   "source": [
    "class BinaryTree:\n",
    "    def __init__(self):\n",
    "        BinaryNode.numberOfNodes = 0\n",
    "        self.root = EmptyNode()\n",
    "    def __repr__(self):\n",
    "        return repr(self.root)\n",
    "    def insert(self, value):\n",
    "        self.root = self.root.insert(value)\n",
    "    def __contains__(self, value):\n",
    "        return value in self.root\n",
    "    def __len__(self):\n",
    "        return len(self.root)"
   ]
  },
  {
   "cell_type": "code",
   "execution_count": 32,
   "id": "5eb9354b-da62-458b-987d-8787c8bee252",
   "metadata": {},
   "outputs": [],
   "source": [
    "class BinaryNode:\n",
    "    def __init__(self, left, value, right):\n",
    "        self.left = left\n",
    "        self.value = value\n",
    "        self.right = right\n",
    "\n",
    "    def __repr__(self):\n",
    "        return f'({self.left}, {self.value}, {self.right})'\n",
    "\n",
    "    def insert(self, value):\n",
    "         if value<self.value:\n",
    "             self.left =self.left.insert(value)\n",
    "         else:\n",
    "             self.right =self.right.insert(value)\n",
    "         return self\n",
    "    def __contains__(self, value):\n",
    "        if value==self.value:\n",
    "            return True\n",
    "        if value<self.value:\n",
    "            return value in self.left\n",
    "        if value>self.value:\n",
    "            return value in self.right \n",
    "    def __len__(self):\n",
    "        left_len = len(self.left)\n",
    "        right_len = len(self.right)\n",
    "        return 1 + left_len + right_len"
   ]
  },
  {
   "cell_type": "code",
   "execution_count": 33,
   "id": "d6732985-5fa0-44c6-8413-f91f33c63292",
   "metadata": {},
   "outputs": [],
   "source": [
    "class EmptyNode:\n",
    "    def __repr__(self):\n",
    "        return '*'\n",
    "\n",
    "    def insert(self, value):\n",
    "        return BinaryNode(self, value, self)\n",
    "    def __contains__(self, value):\n",
    "        return False\n",
    "    def __len__(self):\n",
    "        return 0"
   ]
  },
  {
   "cell_type": "code",
   "execution_count": 34,
   "id": "722fe999-3fe5-492c-be1d-7a86dfe201d7",
   "metadata": {},
   "outputs": [
    {
     "name": "stdout",
     "output_type": "stream",
     "text": [
      "5\n",
      "((*, 1, (*, 3, (*, 4, *))), 5, (*, 10, *))\n"
     ]
    }
   ],
   "source": [
    "tree1 = BinaryTree()\n",
    "source_data = [5,1,10,3,4]\n",
    "\n",
    "tree2 = BinaryTree()\n",
    "source_data = [5,1,10,3,4]\n",
    "\n",
    "for i in source_data:\n",
    "    tree1.insert(i)\n",
    "    tree2.insert(i)\n",
    "print(len(tree1))\n",
    "\n",
    "print(tree1)\n"
   ]
  },
  {
   "cell_type": "code",
   "execution_count": null,
   "id": "bd4a2718-d0de-47ca-81ec-defa58df4c7a",
   "metadata": {},
   "outputs": [],
   "source": []
  }
 ],
 "metadata": {
  "kernelspec": {
   "display_name": "Python 3 (ipykernel)",
   "language": "python",
   "name": "python3"
  },
  "language_info": {
   "codemirror_mode": {
    "name": "ipython",
    "version": 3
   },
   "file_extension": ".py",
   "mimetype": "text/x-python",
   "name": "python",
   "nbconvert_exporter": "python",
   "pygments_lexer": "ipython3",
   "version": "3.13.2"
  }
 },
 "nbformat": 4,
 "nbformat_minor": 5
}
